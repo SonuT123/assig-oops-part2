{
 "cells": [
  {
   "cell_type": "markdown",
   "id": "56dccc96-be03-433b-8917-cb75a269cc32",
   "metadata": {},
   "source": [
    "                                     ASSIGNMENT OOPS PART 2"
   ]
  },
  {
   "cell_type": "markdown",
   "id": "11d7ccbd-a6dd-4a46-a318-d4bfd06f8172",
   "metadata": {},
   "source": [
    "Q1. What is Abstraction in OOps? Explain with an example."
   ]
  },
  {
   "cell_type": "markdown",
   "id": "e319321f-55d1-4a0c-885f-249cdeda786b",
   "metadata": {},
   "source": [
    "ANSWER :- In object-oriented programming (OOP),\n",
    "           abstraction is a concept that focuses on representing essential features of \n",
    "           an object while hiding unnecessary details.\n",
    "           It allows us to create abstract classes or interfaces that define the common attributes\n",
    "            and behaviors of related objects without specifying their exact implementation.\n",
    "            Abstraction helps manage complexity, provide a high-level view of the system,\n",
    "            and promote code modularity and reusability.\n",
    "\n",
    "Abstraction can be achieved in OOP through abstract classes and interfaces.\n",
    "          An abstract class is a class that cannot be instantiated and serves as a blueprint for other classes.\n",
    "          It can contain both abstract and concrete methods. \n",
    "          An abstract method is a method without an implementation,\n",
    "          meant to be overridden by the subclasses."
   ]
  },
  {
   "cell_type": "code",
   "execution_count": 5,
   "id": "d1d76b37-c219-4b52-ba64-41c1d760b22e",
   "metadata": {},
   "outputs": [],
   "source": [
    "from abc import ABC, abstractmethod\n",
    "\n",
    "class Shape(ABC):\n",
    "    @abstractmethod\n",
    "    def area(self):\n",
    "        pass\n",
    "\n",
    "    @abstractmethod\n",
    "    def perimeter(self):\n",
    "        pass\n",
    "\n",
    "class Rectangle(Shape):\n",
    "    def __init__(self, length, width):\n",
    "        self.length = length\n",
    "        self.width = width\n",
    "\n",
    "    def area(self):\n",
    "        return self.length * self.width\n",
    "\n",
    "    def perimeter(self):\n",
    "        return 2 * (self.length + self.width)\n",
    "\n",
    "class Circle(Shape):\n",
    "    def __init__(self, radius):\n",
    "        self.radius = radius\n",
    "\n",
    "    def area(self):\n",
    "        return 3.14 * self.radius ** 2\n",
    "\n",
    "    def perimeter(self):\n",
    "        return 2 * 3.14 * self.radius\n",
    "   "
   ]
  },
  {
   "cell_type": "code",
   "execution_count": 8,
   "id": "758aad68-3078-4410-b6fa-b13efae57169",
   "metadata": {},
   "outputs": [],
   "source": [
    "rectangle = Rectangle(4, 6)"
   ]
  },
  {
   "cell_type": "code",
   "execution_count": 9,
   "id": "e2d42604-d14e-4f35-9125-38bdeeddfcd3",
   "metadata": {},
   "outputs": [],
   "source": [
    "circle = Circle(5)\n"
   ]
  },
  {
   "cell_type": "code",
   "execution_count": 10,
   "id": "1296f82b-f64c-4f7a-a678-6c6430d25ddf",
   "metadata": {},
   "outputs": [
    {
     "name": "stdout",
     "output_type": "stream",
     "text": [
      "24\n",
      "20\n",
      "78.5\n",
      "31.400000000000002\n"
     ]
    }
   ],
   "source": [
    "print(rectangle.area())     \n",
    "print(rectangle.perimeter())  \n",
    "print(circle.area())        \n",
    "print(circle.perimeter())   "
   ]
  },
  {
   "cell_type": "markdown",
   "id": "92209368-1a3a-4996-b6b9-4b24e50eb1d0",
   "metadata": {},
   "source": [
    "Q2. Differentiate between Abstraction and Encapsulation. Explain with an example."
   ]
  },
  {
   "cell_type": "raw",
   "id": "88d72bca-cea2-4182-ab8f-3816c6d603cc",
   "metadata": {},
   "source": [
    "Abstraction:- Abstraction focuses on representing essential features\n",
    "              of an object whilehiding unnecessary details.\n",
    "             It allows us to create abstract classes or interfaces that define common attributes \n",
    "             and behaviors without specifying their exact implementation.\n",
    "             Abstraction provides a high-level view of the system and promotes code modularity and reusability.\n",
    "                \n",
    "            \n",
    "            \n",
    "            \n",
    "Encapsulation:- on the other hand, is the bundling of data (attributes) and methods (behaviors) together\n",
    "                within a class.\n",
    "                It allows for the hiding of internal implementation details and exposing only the necessary interfaces\n",
    "                 to interact with objects.\n",
    "                Encapsulation ensures data security and protects data integrity by providing controlled access to the     object's "
   ]
  },
  {
   "cell_type": "code",
   "execution_count": 27,
   "id": "4bece9b7-7665-48b7-af4c-dd8015ec849f",
   "metadata": {},
   "outputs": [],
   "source": [
    "class BankAccount:\n",
    "    def __init__(self, account_number, balance):\n",
    "        self.account_number = account_number\n",
    "        self.balance = balance\n",
    "\n",
    "    def deposit(self, amount):\n",
    "        self.balance += amount\n",
    "\n",
    "    def withdraw(self, amount):\n",
    "        if self.balance >= amount:\n",
    "            self.balance -= amount\n",
    "        else:\n",
    "            print(\"Insufficient funds\")\n",
    "\n",
    "    def get_balance(self):\n",
    "        return self.balance\n",
    "\n",
    "    def display_account_info(self):\n",
    "        print(f\"Account Number: {self.account_number}\")\n",
    "        print(f\"Balance: {self.balance}\")"
   ]
  },
  {
   "cell_type": "code",
   "execution_count": 15,
   "id": "b2944025-5190-41a6-8a93-0b252a1dfd6f",
   "metadata": {},
   "outputs": [],
   "source": [
    "account = BankAccount(\"123456789\", 1000)"
   ]
  },
  {
   "cell_type": "code",
   "execution_count": 17,
   "id": "d079f37f-178d-4e36-af53-688e87cd9cfa",
   "metadata": {},
   "outputs": [
    {
     "data": {
      "text/plain": [
       "1000"
      ]
     },
     "execution_count": 17,
     "metadata": {},
     "output_type": "execute_result"
    }
   ],
   "source": [
    "account.balance"
   ]
  },
  {
   "cell_type": "code",
   "execution_count": 20,
   "id": "68ed3767-b5f0-4af0-bec9-f1c6990e7a4d",
   "metadata": {},
   "outputs": [],
   "source": [
    "account.deposit(50000)"
   ]
  },
  {
   "cell_type": "code",
   "execution_count": 22,
   "id": "1ff8ac58-c818-4761-81d6-361cd7452234",
   "metadata": {},
   "outputs": [
    {
     "data": {
      "text/plain": [
       "51000"
      ]
     },
     "execution_count": 22,
     "metadata": {},
     "output_type": "execute_result"
    }
   ],
   "source": [
    "account.get_balance()"
   ]
  },
  {
   "cell_type": "code",
   "execution_count": 23,
   "id": "0fd74d2c-316e-4b8d-96f3-349e65f4475b",
   "metadata": {},
   "outputs": [
    {
     "name": "stdout",
     "output_type": "stream",
     "text": [
      "Account Number: 123456789\n",
      "Balance: 51000\n"
     ]
    }
   ],
   "source": [
    "account.display_account_info()"
   ]
  },
  {
   "cell_type": "code",
   "execution_count": 25,
   "id": "576daeff-065c-4076-bf09-3f3daa22bd8d",
   "metadata": {},
   "outputs": [],
   "source": [
    "account.withdraw(1000)"
   ]
  },
  {
   "cell_type": "code",
   "execution_count": 26,
   "id": "5ba250be-e618-467a-97ec-a77776c14866",
   "metadata": {},
   "outputs": [
    {
     "data": {
      "text/plain": [
       "50000"
      ]
     },
     "execution_count": 26,
     "metadata": {},
     "output_type": "execute_result"
    }
   ],
   "source": [
    "account.get_balance()"
   ]
  },
  {
   "cell_type": "markdown",
   "id": "0fb17805-96a0-4307-b0bb-5abfd79361a5",
   "metadata": {},
   "source": [
    "Q3. What is abc module in python? Why is it used?"
   ]
  },
  {
   "cell_type": "markdown",
   "id": "7e317866-8c50-4128-b97e-64e2d3ccbe1f",
   "metadata": {},
   "source": [
    "abc module stands for \"Abstract Base Classes.\"\n",
    "         It provides a way to define abstract classes in Python using the concept of abstract methods \n",
    "         and abstract properties.\n",
    "         Abstract classes cannot be instantiated and are meant to serve as blueprints for other classes.\n",
    "\n",
    "\n",
    " abc module is used to create abstract base classes and enforce a certain structure or\n",
    "         contract for derived classes. It helps in achieving abstraction and defining common interfaces\n",
    "         for a group of related classes.\n",
    "    "
   ]
  },
  {
   "cell_type": "code",
   "execution_count": 28,
   "id": "c3741e42-f37d-4402-b6d1-d9fa58d20ebb",
   "metadata": {},
   "outputs": [],
   "source": [
    "from abc import ABC, abstractmethod\n",
    "\n",
    "class Animal(ABC):\n",
    "    @abstractmethod\n",
    "    def make_sound(self):\n",
    "        pass\n",
    "\n",
    "class Dog(Animal):\n",
    "    def make_sound(self):\n",
    "        print(\"Woof!\")\n",
    "\n",
    "class Cat(Animal):\n",
    "    def make_sound(self):\n",
    "        print(\"Meow!\")\n"
   ]
  },
  {
   "cell_type": "code",
   "execution_count": 29,
   "id": "f5098cb8-a364-4940-9c91-d2c9e3f2b5f4",
   "metadata": {},
   "outputs": [],
   "source": [
    "dog = Dog()"
   ]
  },
  {
   "cell_type": "code",
   "execution_count": 30,
   "id": "a0098a36-851a-4f26-acd4-8cf9356e1543",
   "metadata": {},
   "outputs": [
    {
     "name": "stdout",
     "output_type": "stream",
     "text": [
      "Woof!\n"
     ]
    }
   ],
   "source": [
    "dog.make_sound()"
   ]
  },
  {
   "cell_type": "code",
   "execution_count": 31,
   "id": "5af680c8-26f7-446b-b9ab-b5a1c4f92b39",
   "metadata": {},
   "outputs": [],
   "source": [
    "cat = Cat()"
   ]
  },
  {
   "cell_type": "code",
   "execution_count": 32,
   "id": "52b28bb1-55a5-4b09-8e6e-23f12fedc330",
   "metadata": {},
   "outputs": [
    {
     "name": "stdout",
     "output_type": "stream",
     "text": [
      "Meow!\n"
     ]
    }
   ],
   "source": [
    "cat.make_sound()"
   ]
  },
  {
   "cell_type": "markdown",
   "id": "f8f5eb17-47b4-4a4c-81f2-bd6bda22d61c",
   "metadata": {},
   "source": [
    "Q4. How can we achieve data abstraction?"
   ]
  },
  {
   "cell_type": "raw",
   "id": "09dc3527-3b5a-49d5-ae64-5794c87406a0",
   "metadata": {},
   "source": [
    " data abstraction can be achieved by separating the implementation details of a class from\n",
    "       its interface or the way external entities interact with it.\n",
    "       It involves providing a simplified view of an object by exposing only\n",
    "       the essential attributes and behaviors while hiding the internal implementation details.\n",
    "    "
   ]
  },
  {
   "cell_type": "code",
   "execution_count": 45,
   "id": "c90e5630-97bd-461a-a283-b5232d292d44",
   "metadata": {},
   "outputs": [],
   "source": [
    "class BankAccount:\n",
    "    def __init__(self, account_number):\n",
    "        self._account_number = account_number\n",
    "        self._balance = 0\n",
    "\n",
    "    @property\n",
    "    def account_number(self):\n",
    "        return self._account_number\n",
    "\n",
    "    @property\n",
    "    def balance(self):\n",
    "        return self._balance\n",
    "\n",
    "    def deposit(self, amount):\n",
    "        if amount > 0:\n",
    "            self._balance += amount\n",
    "\n",
    "    def withdraw(self, amount):\n",
    "        if amount > 0 and self._balance >= amount:\n",
    "            self._balance -= amount\n",
    "\n",
    "    def __str__(self):\n",
    "        return f\"Account Number: {self._account_number}, Balance: {self._balance}\""
   ]
  },
  {
   "cell_type": "code",
   "execution_count": 46,
   "id": "8b1b7dfd-73bd-4470-84a4-67ce6aaf3ac2",
   "metadata": {},
   "outputs": [],
   "source": [
    "account = BankAccount(\"123456789\")"
   ]
  },
  {
   "cell_type": "code",
   "execution_count": 47,
   "id": "25cdced1-f999-451a-96d9-8809aa514545",
   "metadata": {},
   "outputs": [
    {
     "name": "stdout",
     "output_type": "stream",
     "text": [
      "123456789\n"
     ]
    }
   ],
   "source": [
    "print(account.account_number)"
   ]
  },
  {
   "cell_type": "code",
   "execution_count": 48,
   "id": "40b2d347-1c98-4759-9ba7-ace192c8fbed",
   "metadata": {},
   "outputs": [
    {
     "name": "stdout",
     "output_type": "stream",
     "text": [
      "0\n"
     ]
    }
   ],
   "source": [
    "print(account.balance)"
   ]
  },
  {
   "cell_type": "code",
   "execution_count": 49,
   "id": "723b62e1-4721-4775-8bbb-d03d67b46a96",
   "metadata": {},
   "outputs": [],
   "source": [
    "account.deposit(100)"
   ]
  },
  {
   "cell_type": "code",
   "execution_count": 50,
   "id": "fb7a7b13-38fd-43e5-b6af-9a9acf3e3834",
   "metadata": {},
   "outputs": [
    {
     "data": {
      "text/plain": [
       "100"
      ]
     },
     "execution_count": 50,
     "metadata": {},
     "output_type": "execute_result"
    }
   ],
   "source": [
    "account.balance"
   ]
  },
  {
   "cell_type": "code",
   "execution_count": 51,
   "id": "cd32f06f-b3ba-4459-b1b3-77e42b05a3a0",
   "metadata": {},
   "outputs": [
    {
     "name": "stdout",
     "output_type": "stream",
     "text": [
      "100\n"
     ]
    }
   ],
   "source": [
    "print(account.balance)"
   ]
  },
  {
   "cell_type": "code",
   "execution_count": 52,
   "id": "38f1fd00-7758-4126-a79f-58e4f7a247a5",
   "metadata": {},
   "outputs": [],
   "source": [
    "account.withdraw(50)"
   ]
  },
  {
   "cell_type": "code",
   "execution_count": 53,
   "id": "1081e488-d5c3-490d-8788-2235c2e5a1d8",
   "metadata": {},
   "outputs": [
    {
     "name": "stdout",
     "output_type": "stream",
     "text": [
      "50\n"
     ]
    }
   ],
   "source": [
    "print(account.balance)"
   ]
  },
  {
   "cell_type": "code",
   "execution_count": 54,
   "id": "7a9c2a65-b576-4705-9401-d7144ccf8ef2",
   "metadata": {},
   "outputs": [
    {
     "name": "stdout",
     "output_type": "stream",
     "text": [
      "Account Number: 123456789, Balance: 50\n"
     ]
    }
   ],
   "source": [
    "print(account)"
   ]
  },
  {
   "cell_type": "markdown",
   "id": "d7a86b1d-5df4-4df0-82ae-1b6a9c9f99b7",
   "metadata": {},
   "source": [
    "Q5. Can we create an instance of an abstract class? Explain your answer."
   ]
  },
  {
   "cell_type": "raw",
   "id": "67eeaa18-07e1-4d24-8880-b943a6ac5bb5",
   "metadata": {},
   "source": [
    "answer:- \n",
    "\n",
    "        No, we cannot create an instance of an abstract class.\n",
    "        An abstract class is a class that is meant to be subclassed \n",
    "        and serves as a blueprint for other classes. It is designed \n",
    "        to be incomplete and contains one or more abstract methods,\n",
    "         which are methods without an implementation.\n"
   ]
  },
  {
   "cell_type": "code",
   "execution_count": 57,
   "id": "f257a0c8-e8aa-4bd5-8013-2cb978477193",
   "metadata": {},
   "outputs": [],
   "source": [
    "from abc import ABC, abstractmethod\n",
    "\n",
    "class AbstractClass(ABC):\n",
    "    @abstractmethod\n",
    "    def abstract_method(self):\n",
    "        pass\n",
    "\n",
    "class ConcreteClass(AbstractClass):\n",
    "    def abstract_method(self):\n",
    "        print(\"Implementation of abstract method\")\n"
   ]
  },
  {
   "cell_type": "code",
   "execution_count": 58,
   "id": "4dfae191-369f-4b49-be79-f44b87859911",
   "metadata": {},
   "outputs": [],
   "source": [
    "concrete_obj = ConcreteClass()"
   ]
  },
  {
   "cell_type": "code",
   "execution_count": 59,
   "id": "45b0e100-7c64-4128-8a43-d3f7e95e0a10",
   "metadata": {},
   "outputs": [
    {
     "name": "stdout",
     "output_type": "stream",
     "text": [
      "Implementation of abstract method\n"
     ]
    }
   ],
   "source": [
    "concrete_obj.abstract_method()"
   ]
  },
  {
   "cell_type": "code",
   "execution_count": null,
   "id": "9de71409-968c-4828-98b3-17a7bbdb4fa3",
   "metadata": {},
   "outputs": [],
   "source": []
  }
 ],
 "metadata": {
  "kernelspec": {
   "display_name": "Python 3 (ipykernel)",
   "language": "python",
   "name": "python3"
  },
  "language_info": {
   "codemirror_mode": {
    "name": "ipython",
    "version": 3
   },
   "file_extension": ".py",
   "mimetype": "text/x-python",
   "name": "python",
   "nbconvert_exporter": "python",
   "pygments_lexer": "ipython3",
   "version": "3.10.8"
  }
 },
 "nbformat": 4,
 "nbformat_minor": 5
}
